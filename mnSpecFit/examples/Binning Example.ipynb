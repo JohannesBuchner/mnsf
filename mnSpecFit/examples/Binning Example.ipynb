{
 "cells": [
  {
   "cell_type": "code",
   "execution_count": 1,
   "metadata": {
    "collapsed": false
   },
   "outputs": [
    {
     "name": "stdout",
     "output_type": "stream",
     "text": [
      "Populating the interactive namespace from numpy and matplotlib\n"
     ]
    }
   ],
   "source": [
    "%pylab inline\n",
    "from mnSpecFit import *"
   ]
  },
  {
   "cell_type": "markdown",
   "metadata": {},
   "source": [
    "First we need to bin up the data and source and background. This can be done with GBM TTE data or from PHAI files that have already bin binned with a tool such as gtburst."
   ]
  },
  {
   "cell_type": "code",
   "execution_count": 3,
   "metadata": {
    "collapsed": false
   },
   "outputs": [
    {
     "name": "stdout",
     "output_type": "stream",
     "text": [
      "Found RSP: glg_cspec_n0_bn080916009_v07.rsp\n",
      "The Trigger Time for this event::\n",
      "243216766.613542\n",
      "\n",
      "Looking for optimal polynomial grade:\n",
      "\n",
      "delta log-likelihoods:\n",
      "0 -> 1: delta Log-likelihood = 2.4127247975\n",
      "1 -> 2: delta Log-likelihood = 0.157254739082\n",
      "2 -> 3: delta Log-likelihood = 0.607419581793\n",
      "3 -> 4: delta Log-likelihood = 0.227023616782\n",
      "\n",
      "Optimal poly grade: 0\n",
      "Writing:\n",
      "\tbin1/GBM_n0.fits\n",
      "Writing:\n",
      "\tbin0/GBM_n0.fits\n"
     ]
    },
    {
     "data": {
      "image/png": "[encoded data removed]",
      "text/plain": [
       "<matplotlib.figure.Figure at 0x109acde90>"
      ]
     },
     "metadata": {},
     "output_type": "display_data"
    }
   ],
   "source": [
    "# We will use the GBMReader class to create bins with TTE data\n",
    "n0 = GBMReader(\"glg_tte_n0_bn080916009_v01.fit\")\n",
    "\n",
    "# Here you specify the background intervals as nested arrays. You can also point to \n",
    "# an RSP file if it is not in the path or has a non-standard name\n",
    "n0.ReadData(bkgIntervals=[[-25.,-5],[100.,200.]])\n",
    "\n",
    "# Now get the data binning object and select a binning. This will be improved\n",
    "n0.dataBinner.MakeConstantBins(5.)\n",
    "\n",
    "# Select the regions you want to use for spectral fitting. This will also trigger\n",
    "# background fitting.\n",
    "n0.CreateCounts(0.,10.)\n",
    "\n",
    "# Write the binned data to files readable by mnSpecFit\n",
    "\n",
    "n0.MakeBins()\n"
   ]
  },
  {
   "cell_type": "markdown",
   "metadata": {},
   "source": [
    "We can check the written files and find out where the overflow channels are"
   ]
  },
  {
   "cell_type": "code",
   "execution_count": 7,
   "metadata": {
    "collapsed": false
   },
   "outputs": [
    {
     "data": {
      "image/png": "[encoded data removed]",
      "text/plain": [
       "<matplotlib.figure.Figure at 0x10bb9cc90>"
      ]
     },
     "metadata": {},
     "output_type": "display_data"
    }
   ],
   "source": [
    "n0 = DataBin(\"bin0/GBM_n0.fits\")\n",
    "n0.ViewCountSpectrum()"
   ]
  },
  {
   "cell_type": "markdown",
   "metadata": {},
   "source": [
    "Adjust the channels properly so you will know how to set things when you run the sampler"
   ]
  },
  {
   "cell_type": "code",
   "execution_count": 9,
   "metadata": {
    "collapsed": false
   },
   "outputs": [
    {
     "data": {
      "image/png": "[encoded data removed]",
      "text/plain": [
       "<matplotlib.figure.Figure at 0x1047a9750>"
      ]
     },
     "metadata": {},
     "output_type": "display_data"
    }
   ],
   "source": [
    "n0.SetLoChan(8.1) #keV\n",
    "n0.SetHiChan(930.) #keV\n",
    "n0.ViewCountSpectrum()"
   ]
  },
  {
   "cell_type": "markdown",
   "metadata": {},
   "source": [
    "Repeat with all detectors. You can now proceed with a fit!"
   ]
  },
  {
   "cell_type": "code",
   "execution_count": 12,
   "metadata": {
    "collapsed": false
   },
   "outputs": [
    {
     "name": "stdout",
     "output_type": "stream",
     "text": [
      "Found RSP: glg_cspec_n3_bn080916009_v07.rsp\n",
      "The Trigger Time for this event::\n",
      "243216766.613542\n",
      "\n",
      "Looking for optimal polynomial grade:\n",
      "\n",
      "delta log-likelihoods:\n",
      "0 -> 1: delta Log-likelihood = 0.849986976769\n",
      "1 -> 2: delta Log-likelihood = 1.11037105933\n",
      "2 -> 3: delta Log-likelihood = 0.0472272426705\n",
      "3 -> 4: delta Log-likelihood = 0.139931101003\n",
      "\n",
      "Optimal poly grade: 0\n",
      "Writing:\n",
      "\tbin1/GBM_n3.fits\n",
      "Writing:\n",
      "\tbin0/GBM_n3.fits\n"
     ]
    },
    {
     "data": {
      "image/png": "[encoded data removed]",
      "text/plain": [
       "<matplotlib.figure.Figure at 0x109e73e90>"
      ]
     },
     "metadata": {},
     "output_type": "display_data"
    }
   ],
   "source": [
    "n3 = GBMReader(\"glg_tte_n3_bn080916009_v01.fit\")\n",
    "n3.ReadData(bkgIntervals=[[-25.,-5],[100.,200.]])\n",
    "n3.dataBinner.MakeConstantBins(5.)\n",
    "n3.CreateCounts(0.,10.)\n",
    "n3.MakeBins()\n"
   ]
  },
  {
   "cell_type": "code",
   "execution_count": 13,
   "metadata": {
    "collapsed": false
   },
   "outputs": [
    {
     "name": "stdout",
     "output_type": "stream",
     "text": [
      "Found RSP: glg_cspec_n4_bn080916009_v07.rsp\n",
      "The Trigger Time for this event::\n",
      "243216766.613542\n",
      "\n",
      "Looking for optimal polynomial grade:\n",
      "\n",
      "delta log-likelihoods:\n",
      "0 -> 1: delta Log-likelihood = 0.0252600476379\n",
      "1 -> 2: delta Log-likelihood = 2.02706392301\n",
      "2 -> 3: delta Log-likelihood = 0.06136164075\n",
      "3 -> 4: delta Log-likelihood = 0.0773139660014\n",
      "\n",
      "Optimal poly grade: 0\n",
      "Writing:\n",
      "\tbin1/GBM_n4.fits\n",
      "Writing:\n",
      "\tbin0/GBM_n4.fits\n"
     ]
    },
    {
     "data": {
      "image/png": "[encoded data removed]",
      "text/plain": [
       "<matplotlib.figure.Figure at 0x10b2f3f10>"
      ]
     },
     "metadata": {},
     "output_type": "display_data"
    }
   ],
   "source": [
    "n4 = GBMReader(\"glg_tte_n4_bn080916009_v01.fit\")\n",
    "n4.ReadData(bkgIntervals=[[-25.,-5],[100.,200.]])\n",
    "n4.dataBinner.MakeConstantBins(5.)\n",
    "n4.CreateCounts(0.,10.)\n",
    "n4.MakeBins()"
   ]
  },
  {
   "cell_type": "code",
   "execution_count": 14,
   "metadata": {
    "collapsed": false
   },
   "outputs": [
    {
     "name": "stdout",
     "output_type": "stream",
     "text": [
      "Found RSP: glg_cspec_b0_bn080916009_v07.rsp\n",
      "The Trigger Time for this event::\n",
      "243216766.613542\n",
      "\n",
      "Looking for optimal polynomial grade:\n",
      "\n",
      "delta log-likelihoods:\n",
      "0 -> 1: delta Log-likelihood = 18.5381731568\n",
      "1 -> 2: delta Log-likelihood = 0.477335891221\n",
      "2 -> 3: delta Log-likelihood = 0.101256824564\n",
      "3 -> 4: delta Log-likelihood = 0.0171924796887\n",
      "\n",
      "Optimal poly grade: 1\n",
      "Writing:\n",
      "\tbin1/GBM_b0.fits\n",
      "Writing:\n",
      "\tbin0/GBM_b0.fits\n"
     ]
    },
    {
     "data": {
      "image/png": "[encoded data removed]",
      "text/plain": [
       "<matplotlib.figure.Figure at 0x10e13be90>"
      ]
     },
     "metadata": {},
     "output_type": "display_data"
    }
   ],
   "source": [
    "b0 = GBMReader(\"glg_tte_b0_bn080916009_v01.fit\")\n",
    "b0.ReadData(bkgIntervals=[[-25.,-5],[100.,200.]])\n",
    "b0.dataBinner.MakeConstantBins(5.)\n",
    "b0.CreateCounts(0.,10.)\n",
    "b0.MakeBins()"
   ]
  },
  {
   "cell_type": "code",
   "execution_count": null,
   "metadata": {
    "collapsed": true
   },
   "outputs": [],
   "source": []
  }
 ],
 "metadata": {
  "kernelspec": {
   "display_name": "Python 2",
   "language": "python",
   "name": "python2"
  },
  "language_info": {
   "codemirror_mode": {
    "name": "ipython",
    "version": 2
   },
   "file_extension": ".py",
   "mimetype": "text/x-python",
   "name": "python",
   "nbconvert_exporter": "python",
   "pygments_lexer": "ipython2",
   "version": "2.7.9"
  }
 },
 "nbformat": 4,
 "nbformat_minor": 0
}
