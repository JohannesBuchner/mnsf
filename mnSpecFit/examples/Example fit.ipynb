{
 "cells": [
  {
   "cell_type": "markdown",
   "metadata": {},
   "source": [
    "Ideally one can run this as a script with MPI. However, this demostrates the basic functionality."
   ]
  },
  {
   "cell_type": "code",
   "execution_count": 13,
   "metadata": {
    "collapsed": true
   },
   "outputs": [],
   "source": [
    "from mnSpecFit import *\n",
    "from multiFit import *"
   ]
  },
  {
   "cell_type": "code",
   "execution_count": 14,
   "metadata": {
    "collapsed": true
   },
   "outputs": [],
   "source": [
    "# We will fit the first time bin\n",
    "\n",
    "n0 = DataBin(\"bin0/GBM_n0.fits\")\n",
    "n3 = DataBin(\"bin0/GBM_n3.fits\")\n",
    "n4 = DataBin(\"bin0/GBM_n4.fits\")\n",
    "b0 = DataBin(\"bin0/GBM_b0.fits\")"
   ]
  },
  {
   "cell_type": "code",
   "execution_count": 15,
   "metadata": {
    "collapsed": false
   },
   "outputs": [
    {
     "name": "stdout",
     "output_type": "stream",
     "text": [
      "Detector n0 ignoring channels (0-3) and (125-128)\n",
      "123 active PHA channel\n",
      "Detector n3 ignoring channels (0-4) and (125-128)\n",
      "122 active PHA channel\n",
      "Detector n4 ignoring channels (0-4) and (125-128)\n",
      "122 active PHA channel\n",
      "Detector b0 ignoring channels (0-1) and (124-128)\n",
      "124 active PHA channel\n"
     ]
    }
   ],
   "source": [
    "# Instantiate the fitter\n",
    "fitter = mnSpecFit(silent=True,verbose=True,resume=False,live_points=150)\n",
    "\n",
    "# Create a base tag for MULTINEST\n",
    "fitter.SetBasename(\"expl_fit/band_\")\n",
    "\n",
    "# Fit info is written to this JSON file\n",
    "fitter.SetSaveFile(\"band.json\")\n",
    "\n",
    "#Load the DataBins\n",
    "fitter.LoadData([n0,n3,n4,b0])\n",
    "\n",
    "# Set the bounds for fitting\n",
    "fitter.SetEnergyBounds(\"n0\",8.1,930.)\n",
    "fitter.SetEnergyBounds(\"n3\",8.1,930.)\n",
    "fitter.SetEnergyBounds(\"n4\",8.1,930.)\n",
    "fitter.SetEnergyBounds(\"b0\",250.,38000.)\n",
    "\n",
    "#Set the model\n",
    "fitter.SetModel(Band)\n"
   ]
  },
  {
   "cell_type": "code",
   "execution_count": null,
   "metadata": {
    "collapsed": false
   },
   "outputs": [
    {
     "name": "stderr",
     "output_type": "stream",
     "text": [
      "ERROR: Interrupt received: Terminating\n"
     ]
    }
   ],
   "source": [
    "# Construct the Likelihood function\n",
    "fitter.SetLikelihood(pgstat)\n",
    "fitter.ConstructLikelihood()\n",
    "\n",
    "#Explore the parameter space\n",
    "fitter.Explore()\n"
   ]
  },
  {
   "cell_type": "code",
   "execution_count": null,
   "metadata": {
    "collapsed": true
   },
   "outputs": [],
   "source": []
  }
 ],
 "metadata": {
  "kernelspec": {
   "display_name": "Python 2",
   "language": "python",
   "name": "python2"
  },
  "language_info": {
   "codemirror_mode": {
    "name": "ipython",
    "version": 2
   },
   "file_extension": ".py",
   "mimetype": "text/x-python",
   "name": "python",
   "nbconvert_exporter": "python",
   "pygments_lexer": "ipython2",
   "version": "2.7.9"
  }
 },
 "nbformat": 4,
 "nbformat_minor": 0
}
